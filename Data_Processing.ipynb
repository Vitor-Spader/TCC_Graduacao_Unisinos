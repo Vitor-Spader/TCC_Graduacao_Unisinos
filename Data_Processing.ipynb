{
 "cells": [
  {
   "cell_type": "code",
   "execution_count": 1,
   "id": "90159f4b",
   "metadata": {},
   "outputs": [],
   "source": [
    "import pandas as pd\n",
    "import numpy as np\n",
    "import lightgbm as lgb"
   ]
  },
  {
   "cell_type": "code",
   "execution_count": 2,
   "id": "6b4fe455-e2db-412e-9a3d-0440012a9056",
   "metadata": {},
   "outputs": [],
   "source": [
    "df = pd.read_csv('Data/Order_Agg.csv').sort_values(\"AccountId\") "
   ]
  },
  {
   "cell_type": "code",
   "execution_count": 3,
   "id": "6405a733-07a9-46ae-addd-636ec77aa608",
   "metadata": {},
   "outputs": [],
   "source": [
    "df_cleaned = df"
   ]
  },
  {
   "cell_type": "code",
   "execution_count": 4,
   "id": "ca01ed12",
   "metadata": {},
   "outputs": [],
   "source": [
    "#valid_groups = df.groupby(\"AccountId\")[\"HasOrder\"].sum()\n",
    "#valid_accounts = valid_groups[valid_groups > 0].index\n",
    "#df_new = df[df[\"AccountId\"].isin(valid_accounts)]\n",
    "#df = df_new"
   ]
  },
  {
   "cell_type": "code",
   "execution_count": 5,
   "id": "b32dea2f",
   "metadata": {},
   "outputs": [],
   "source": [
    "#Normaliza a coluna entre 0 e 1\n",
    "#for column in [c for c in df_cleaned.columns if c not in ['AccountId', 'PorductId', 'HasOrder']]:\n",
    "#    df_cleaned[column] = (df_cleaned[column] - df_cleaned[column].min()) / (df_cleaned[column].max() - df_cleaned[column].min())"
   ]
  },
  {
   "cell_type": "code",
   "execution_count": 6,
   "id": "c7bf828d",
   "metadata": {},
   "outputs": [
    {
     "name": "stdout",
     "output_type": "stream",
     "text": [
      "True\n",
      "[LightGBM] [Info] Auto-choosing row-wise multi-threading, the overhead of testing was 0.289642 seconds.\n",
      "You can set `force_row_wise=true` to remove the overhead.\n",
      "And if memory is not enough, you can set `force_col_wise=true`.\n",
      "[LightGBM] [Info] Total Bins 2522\n",
      "[LightGBM] [Info] Number of data points in the train set: 3613231, number of used features: 12\n",
      "[LightGBM] [Warning] No further splits with positive gain, best gain: -inf\n",
      "[LightGBM] [Warning] No further splits with positive gain, best gain: -inf\n"
     ]
    }
   ],
   "source": [
    "X = df_cleaned[\n",
    "    [\n",
    "        'TotalPrice',\n",
    "        'AvgPrice',\n",
    "        'TotalQuantity',\n",
    "        'AvgQuantity',\n",
    "        'Recency',\n",
    "        'AvgRecency',\n",
    "        'ProductPopularity',\n",
    "        'TotalPriceProportion',\n",
    "        'TotalQuantityProportion',\n",
    "        'OrderCount',\n",
    "        'Frequency',\n",
    "        'RFM'\n",
    "    ]\n",
    "]\n",
    "y = df_cleaned[\"HasOrder\"] == 1\n",
    "#X = df_cleaned[[\"TotalPrice\", \"AvgPrice\", \"TotalQuantity\", \"AvgQuantity\"]]\n",
    "#y = df_cleaned[\"HasOrder\"]\n",
    "groups = df.groupby(\"AccountId\").size().to_list()  # tamanho do grupo por usuário\n",
    "\n",
    "train_data = lgb.Dataset(X, label=y, group=groups)\n",
    "\n",
    "params = {\n",
    "    \"objective\": \"lambdarank\",   # Ranking\n",
    "    \"metric\": \"ndcg\",            # Avaliação por ranking\n",
    "    \"ndcg_eval_at\": [5, 10],         # Avaliação no top-5\n",
    "    \"learning_rate\": 0.01,\n",
    "    \"num_leaves\": 62,\n",
    "    \"min_data_in_leaf\": 30\n",
    "}\n",
    "\n",
    "print(y.max())\n",
    "\n",
    "model = lgb.train(params, train_data, num_boost_round=500)"
   ]
  },
  {
   "cell_type": "code",
   "execution_count": 13,
   "id": "26f0612e",
   "metadata": {},
   "outputs": [
    {
     "name": "stdout",
     "output_type": "stream",
     "text": [
      "Ranking de produtos recomendados:\n",
      "Produto 77303543.0 - score 9.3501\n",
      "Produto 77200654.0 - score 9.3501\n",
      "Produto 40370020.0 - score 9.3501\n",
      "Produto 77218754.0 - score 9.3501\n",
      "Produto 77459534.0 - score 9.3501\n",
      "Produto 77600615.0 - score 9.3501\n",
      "Produto 77855764.0 - score 9.3501\n",
      "Produto 77395085.0 - score 9.3501\n",
      "Produto 78502750.0 - score 9.3501\n",
      "Produto 40370018.0 - score 9.3501\n",
      "Produto 77819051.0 - score 9.3501\n",
      "Produto 77559524.0 - score 9.3501\n",
      "Produto 78506750.0 - score 9.3501\n",
      "Produto 77704432.0 - score 9.3501\n",
      "Produto 44452209.0 - score -9.3501\n",
      "Produto 44660113.0 - score -9.3501\n",
      "Produto 43610022.0 - score -9.3501\n",
      "Produto 44660120.0 - score -9.3501\n",
      "Produto 44660117.0 - score -9.3501\n",
      "Produto 44660116.0 - score -9.3501\n",
      "Produto 44869107.0 - score -9.3501\n",
      "Produto 44660114.0 - score -9.3501\n",
      "Produto 44810107.0 - score -9.3501\n",
      "Produto 44660123.0 - score -9.3501\n",
      "Produto 44869109.0 - score -9.3501\n",
      "Produto 44660121.0 - score -9.3501\n",
      "Produto 44660118.0 - score -9.3501\n",
      "Produto 44811107.0 - score -9.3501\n",
      "Produto 44460209.0 - score -9.3501\n",
      "Produto 44810108.0 - score -9.3501\n",
      "Produto 44811109.0 - score -9.3501\n",
      "Produto 44660111.0 - score -9.3501\n",
      "Produto 44660122.0 - score -9.3501\n",
      "Produto 44660110.0 - score -9.3501\n",
      "Produto 44660124.0 - score -9.3501\n",
      "Produto 44660119.0 - score -9.3501\n",
      "Produto 44660115.0 - score -9.3501\n",
      "Produto 44660112.0 - score -9.3501\n",
      "Produto 44811103.0 - score -9.3501\n",
      "Produto 77218654.0 - score -9.3501\n",
      "Produto 26600012.0 - score -9.3501\n",
      "Produto 26600010.0 - score -9.3501\n",
      "Produto 26600014.0 - score -9.3501\n",
      "Produto 78592000.0 - score -9.3501\n",
      "Produto 26600018.0 - score -9.3501\n",
      "Produto 77553545.0 - score -9.3501\n"
     ]
    }
   ],
   "source": [
    "# Simulação de features para um novo usuário com 10 produtos candidatos\n",
    "X_new = df_cleaned[df_cleaned['AccountId'] == '0018c00002SwxD0AAJ'][[\n",
    "        'TotalPrice',\n",
    "        'AvgPrice',\n",
    "        'TotalQuantity',\n",
    "        'AvgQuantity',\n",
    "        'Recency',\n",
    "        'AvgRecency',\n",
    "        'ProductPopularity',\n",
    "        'TotalPriceProportion',\n",
    "        'TotalQuantityProportion',\n",
    "        'OrderCount',\n",
    "        'Frequency',\n",
    "        'RFM'\n",
    "    ]]\n",
    "product_ids = df_cleaned[df_cleaned['AccountId'] == '0018c00002SwxD0AAJ']['ProductCode'].to_list() #list(range(new_products))\n",
    "\n",
    "# Predição\n",
    "scores = model.predict(X_new)\n",
    "\n",
    "# Ordenando por relevância\n",
    "ranking = sorted(zip(product_ids, scores), key=lambda x: x[1], reverse=True)\n",
    "\n",
    "print(\"Ranking de produtos recomendados:\")\n",
    "for prod, score in ranking:\n",
    "    print(f\"Produto {prod} - score {score:.4f}\")"
   ]
  }
 ],
 "metadata": {
  "kernelspec": {
   "display_name": "env",
   "language": "python",
   "name": "python3"
  },
  "language_info": {
   "codemirror_mode": {
    "name": "ipython",
    "version": 3
   },
   "file_extension": ".py",
   "mimetype": "text/x-python",
   "name": "python",
   "nbconvert_exporter": "python",
   "pygments_lexer": "ipython3",
   "version": "3.13.7"
  }
 },
 "nbformat": 4,
 "nbformat_minor": 5
}
