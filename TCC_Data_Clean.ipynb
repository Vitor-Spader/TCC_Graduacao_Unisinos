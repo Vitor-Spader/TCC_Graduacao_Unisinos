{
 "cells": [
  {
   "cell_type": "markdown",
   "id": "cf1240eb",
   "metadata": {},
   "source": [
    "Este processo irá realizar a limpeza a agregação dos dados de interação dos Clientes B2B com a plataforma"
   ]
  },
  {
   "cell_type": "code",
   "execution_count": 2,
   "id": "effdea31",
   "metadata": {},
   "outputs": [],
   "source": [
    "import pandas as pd\n",
    "from datetime import datetime\n",
    "import numpy as np"
   ]
  },
  {
   "cell_type": "markdown",
   "id": "8d7faa24",
   "metadata": {},
   "source": [
    "Limpeza de dados de Clientes do site"
   ]
  },
  {
   "cell_type": "code",
   "execution_count": 3,
   "id": "6b4ffed4",
   "metadata": {},
   "outputs": [],
   "source": [
    "df_account = pd.read_csv('Data/Account.csv')"
   ]
  },
  {
   "cell_type": "markdown",
   "id": "fd20dce1",
   "metadata": {},
   "source": [
    "Limpeza de Produtos"
   ]
  },
  {
   "cell_type": "code",
   "execution_count": 4,
   "id": "6e4ef309",
   "metadata": {},
   "outputs": [
    {
     "name": "stderr",
     "output_type": "stream",
     "text": [
      "/tmp/ipykernel_30429/4285649015.py:1: DtypeWarning: Columns (1) have mixed types. Specify dtype option on import or set low_memory=False.\n",
      "  df_product = pd.read_csv('Data/Product.csv')\n"
     ]
    }
   ],
   "source": [
    "df_product = pd.read_csv('Data/Product.csv')"
   ]
  },
  {
   "cell_type": "markdown",
   "id": "45145c14",
   "metadata": {},
   "source": [
    "Limpeza e Agregação de dados de Pedidos"
   ]
  },
  {
   "cell_type": "code",
   "execution_count": 5,
   "id": "2581205b",
   "metadata": {},
   "outputs": [],
   "source": [
    "df_order = pd.read_csv('Data/Order.csv')\n",
    "df_order['Type'] = 'Order'\n",
    "df_order['Interaction'] = 2\n",
    "df_order_item = pd.read_csv('Data/OrderItem.csv')\n",
    "df_order_interaction = pd.merge(df_order, df_order_item, how='inner', on='OrderId')\n",
    "df_order_product_interaction = pd.merge(df_order_interaction, df_product, how='inner', on='ProductId')"
   ]
  },
  {
   "cell_type": "markdown",
   "id": "9d91422b",
   "metadata": {},
   "source": [
    "Limpeza e Agregação de dados de Carrinho de Compras"
   ]
  },
  {
   "cell_type": "code",
   "execution_count": 6,
   "id": "f9bdf662",
   "metadata": {},
   "outputs": [],
   "source": [
    "df_cart = pd.read_csv('Data/WebCart.csv')\n",
    "df_cart['Type'] = 'Cart'\n",
    "df_cart['Interaction'] = 1\n",
    "df_cart_item = pd.read_csv('Data/CartItem.csv')\n",
    "df_cart_interaction = pd.merge(df_cart, df_cart_item, how='inner', on='WebCartId')\n",
    "df_cart_product_interaction = pd.merge(df_cart_interaction, df_product, how='inner', on='ProductId')"
   ]
  },
  {
   "cell_type": "code",
   "execution_count": 7,
   "id": "6d36a49d",
   "metadata": {},
   "outputs": [],
   "source": [
    "df_interactions = pd.concat([df_cart_product_interaction, df_order_product_interaction], ignore_index=True)"
   ]
  },
  {
   "cell_type": "code",
   "execution_count": 8,
   "id": "c38c2ba7",
   "metadata": {},
   "outputs": [],
   "source": [
    "# Aqui devemos utilizar o inner para remover as contas que não possuem nenhuma interação\n",
    "df_account_interactions = pd.merge(df_account, df_interactions, how='inner', left_on='Id', right_on='AccountId') "
   ]
  },
  {
   "cell_type": "code",
   "execution_count": 9,
   "id": "c577e29e",
   "metadata": {},
   "outputs": [],
   "source": [
    "df_cleaned_interactions = df_account_interactions.drop(['Id', 'CartItemId', 'ProductId', 'Discontinued', 'OrderItemId'], axis=1)"
   ]
  },
  {
   "cell_type": "code",
   "execution_count": 10,
   "id": "2f4b4a8c",
   "metadata": {},
   "outputs": [],
   "source": [
    "df_cleaned_interactions['OrderDate'] = pd.to_datetime(df_cleaned_interactions['OrderDate'], errors='coerce') \n",
    "df_cleaned_interactions['CartDate'] = pd.to_datetime(df_cleaned_interactions['CartDate'].astype(str).str[:10], errors='coerce') "
   ]
  },
  {
   "cell_type": "code",
   "execution_count": 11,
   "id": "03d6d150",
   "metadata": {},
   "outputs": [],
   "source": [
    "df_cleaned_interactions['OrderRecency'] = (datetime.now() - df_cleaned_interactions[df_cleaned_interactions['OrderDate'] < '2025-09-01']['OrderDate']).dt.days\n",
    "# Nesta etapa transforma a recência menor que 1 dia em um valor próximo a zero, para que o cálculo de recência não retorne nulo (Divisão por Zero)\n",
    "df_cleaned_interactions['OrderRecency'] = 1 / df_cleaned_interactions['OrderRecency'].replace(0,0.0000001)"
   ]
  },
  {
   "cell_type": "code",
   "execution_count": 12,
   "id": "959a07bb",
   "metadata": {},
   "outputs": [],
   "source": [
    "df_cleaned_interactions['CartRecency'] = (datetime.now() - df_cleaned_interactions['CartDate']).dt.days\n",
    "# Nesta etapa transforma a recência menor que 1 dia em um valor próximo a zero, para que o cálculo de recência não retorne nulo (Divisão por Zero)\n",
    "df_cleaned_interactions['CartRecency'] = 1 / df_cleaned_interactions['CartRecency'].replace(0,0.0000001)"
   ]
  },
  {
   "cell_type": "code",
   "execution_count": 13,
   "id": "c5467553",
   "metadata": {},
   "outputs": [],
   "source": [
    "# Cria coluna que indica que interações ocorreram no mês de Setembro (Em produção seria alterado para o mês corrente)\n",
    "current_month_cart = (\n",
    "    (df_cleaned_interactions['Type'] == 'Cart') &\n",
    "    (df_cleaned_interactions['CartDate'].dt.year == 2025) &\n",
    "    (df_cleaned_interactions['CartDate'].dt.month == 9)\n",
    ")\n",
    "\n",
    "current_month_order = (\n",
    "    (df_cleaned_interactions['Type'] == 'Order') &\n",
    "    (df_cleaned_interactions['OrderDate'].dt.year == 2025) &\n",
    "    (df_cleaned_interactions['OrderDate'].dt.month == 9)\n",
    ")\n",
    "\n",
    "df_cleaned_interactions['InteractionCurrentMonth'] = np.select(\n",
    "    [current_month_cart, current_month_order],\n",
    "    [1, 2],\n",
    "    default=0\n",
    ")"
   ]
  },
  {
   "cell_type": "code",
   "execution_count": 14,
   "id": "c2cb74d9",
   "metadata": {},
   "outputs": [],
   "source": [
    "current_date = datetime.now()\n",
    "\n",
    "# Correctly calculate date ranges for 3 and 6 months\n",
    "three_months_ago = current_date - pd.DateOffset(months=3)\n",
    "six_months_ago = current_date - pd.DateOffset(months=6)\n",
    "\n",
    "is_3_month = (df_cleaned_interactions['OrderDate'] >= three_months_ago) &  ~current_month_order\n",
    "is_6_month = (df_cleaned_interactions['OrderDate'] >= six_months_ago) &  ~current_month_order\n",
    "\n",
    "# Apply masks to create time-based total columns\n",
    "df_cleaned_interactions['TotalPrice3Month'] = np.where(is_3_month, df_cleaned_interactions['NetValue'], 0)\n",
    "df_cleaned_interactions['TotalPrice6Month'] = np.where(is_6_month, df_cleaned_interactions['NetValue'], 0)\n",
    "\n",
    "df_cleaned_interactions['TotalQuantity3Month'] = np.where(is_3_month, df_cleaned_interactions['Quantity'], 0)\n",
    "df_cleaned_interactions['TotalQuantity6Month'] = np.where(is_6_month, df_cleaned_interactions['Quantity'], 0)\n",
    "\n",
    "df_cleaned_interactions['CountOrder3Month'] = np.where(is_3_month, 1, 0)\n",
    "df_cleaned_interactions['CountOrder6Month'] = np.where(is_6_month, 1, 0)\n",
    "\n",
    "df_cleaned_interactions['OrderNetValue'] = np.where(df_cleaned_interactions['Type'] == 'Order', df_cleaned_interactions['NetValue'], 0)\n",
    "df_cleaned_interactions['OrderQuantity'] = np.where(df_cleaned_interactions['Type'] == 'Order', df_cleaned_interactions['Quantity'], 0)"
   ]
  },
  {
   "cell_type": "code",
   "execution_count": 15,
   "id": "103ec5d3",
   "metadata": {},
   "outputs": [],
   "source": [
    "is_3_month = (df_cleaned_interactions['CartDate'] >= three_months_ago) &  ~current_month_cart\n",
    "is_6_month = (df_cleaned_interactions['CartDate'] >= six_months_ago) &  ~current_month_cart\n",
    "\n",
    "# Apply masks to create time-based total columns\n",
    "df_cleaned_interactions['TotalPriceCart3Month'] = np.where(is_3_month, df_cleaned_interactions['NetValue'], 0)\n",
    "df_cleaned_interactions['TotalPriceCart6Month'] = np.where(is_6_month, df_cleaned_interactions['NetValue'], 0)\n",
    "\n",
    "df_cleaned_interactions['TotalQuantityCart3Month'] = np.where(is_3_month, df_cleaned_interactions['Quantity'], 0)\n",
    "df_cleaned_interactions['TotalQuantityCart6Month'] = np.where(is_6_month, df_cleaned_interactions['Quantity'], 0)\n",
    "\n",
    "df_cleaned_interactions['CountCart3Month'] = np.where(is_3_month, 1, 0)\n",
    "df_cleaned_interactions['CountCart6Month'] = np.where(is_6_month, 1, 0)\n",
    "\n",
    "df_cleaned_interactions['CartNetValue'] = np.where(df_cleaned_interactions['Type'] == 'Cart', df_cleaned_interactions['NetValue'], 0)\n",
    "df_cleaned_interactions['CartQuantity'] = np.where(df_cleaned_interactions['Type'] == 'Cart', df_cleaned_interactions['Quantity'], 0)"
   ]
  },
  {
   "cell_type": "code",
   "execution_count": 16,
   "id": "8180bfab",
   "metadata": {},
   "outputs": [],
   "source": [
    "df_grouped_interactions = (\n",
    "    df_cleaned_interactions\n",
    "        .groupby(['AccountId', 'ProductCode'])\n",
    "        .agg(\n",
    "            NetValue=('NetValue', 'sum'),\n",
    "            Quantity=('Quantity', 'sum'),\n",
    "            Recency=('OrderRecency', 'min'),\n",
    "            CartRecency=('CartRecency', 'min'),\n",
    "            Weight=('Weight', 'first'),\n",
    "            ProductLine=('ProductLine', 'first'),\n",
    "            Size=('Size', 'first'),\n",
    "            TotalPrice3Month=('TotalPrice3Month', 'sum'),\n",
    "            TotalPrice6Month=('TotalPrice6Month', 'sum'),\n",
    "            TotalQuantity3Month=('TotalQuantity3Month', 'sum'),\n",
    "            TotalQuantity6Month=('TotalQuantity6Month', 'sum'),\n",
    "            CountOrder3Month=('CountOrder3Month', 'sum'),\n",
    "            CountOrder6Month=('CountOrder6Month', 'sum'),\n",
    "            OrderClassification=('InteractionCurrentMonth', 'max'),\n",
    "            OrderQuantity=('OrderQuantity', 'sum'),\n",
    "            CartQuantity=('CartQuantity', 'sum'),\n",
    "            TotalPriceCart3Month=('TotalPriceCart3Month', 'sum'),\n",
    "            TotalPriceCart6Month=('TotalPriceCart6Month', 'sum'),\n",
    "            TotalQuantityCart3Month=('TotalQuantityCart3Month', 'sum'),\n",
    "            TotalQuantityCart6Month=('TotalQuantityCart6Month', 'sum'),\n",
    "            CountCart3Month=('CountCart3Month', 'sum'),\n",
    "            CountCart6Month=('CountCart6Month', 'sum'),\n",
    "            CartNetValue=('CartNetValue', 'sum'),\n",
    "            OrderNetValue=('OrderNetValue', 'sum'),\n",
    "            CountOrder=('OrderId', 'nunique'),\n",
    "            CountCart=('WebCartId', 'nunique'),\n",
    "        )\n",
    ").reset_index()"
   ]
  },
  {
   "cell_type": "code",
   "execution_count": 17,
   "id": "312a5891",
   "metadata": {},
   "outputs": [],
   "source": [
    "# --- 5. Post-Aggregation Calculations ---\n",
    "# Calculate Average Tickets, handling potential division by zero\n",
    "df_grouped_interactions['AverageOrderTicket'] = df_grouped_interactions['OrderNetValue'] / df_grouped_interactions['CountOrder'].replace(0, np.nan)\n",
    "df_grouped_interactions['AverageOrderTicket3Month'] = df_grouped_interactions['TotalPrice3Month'] / df_grouped_interactions['CountOrder3Month'].replace(0, np.nan)\n",
    "df_grouped_interactions['AverageOrderTicket6Month'] = df_grouped_interactions['TotalPrice6Month'] / df_grouped_interactions['CountOrder6Month'].replace(0, np.nan)"
   ]
  },
  {
   "cell_type": "code",
   "execution_count": 18,
   "id": "a7c4db11",
   "metadata": {},
   "outputs": [],
   "source": [
    "df_grouped_interactions['AverageCartTicket'] = df_grouped_interactions['CartNetValue'] / df_grouped_interactions['CountCart'].replace(0, np.nan)\n",
    "df_grouped_interactions['AverageCartTicket3Month'] = df_grouped_interactions['TotalPriceCart3Month'] / df_grouped_interactions['CountCart3Month'].replace(0, np.nan)\n",
    "df_grouped_interactions['AverageCartTicket6Month'] = df_grouped_interactions['TotalPriceCart6Month'] / df_grouped_interactions['CountCart6Month'].replace(0, np.nan)"
   ]
  },
  {
   "cell_type": "code",
   "execution_count": 19,
   "id": "102efbbc",
   "metadata": {},
   "outputs": [],
   "source": [
    "\n",
    "# Calculate Product Popularity (Dense Rank by NetValue within each product group)\n",
    "df_grouped_interactions['ProductPopularity'] = df_grouped_interactions.groupby('ProductCode')['NetValue'].rank(method='dense', ascending=False).astype(int)"
   ]
  },
  {
   "cell_type": "code",
   "execution_count": 20,
   "id": "96739fa0",
   "metadata": {},
   "outputs": [],
   "source": [
    "# Calculate Total Price and Quantity by Account\n",
    "df_totals_by_account = df_grouped_interactions.groupby('AccountId').agg(\n",
    "    TotalPriceByAccount=('OrderNetValue', 'sum'),\n",
    "    TotalQuantityByAccount=('OrderQuantity', 'sum')\n",
    ").reset_index()\n",
    "df_grouped_interactions = pd.merge(df_grouped_interactions, df_totals_by_account, on='AccountId', how='left')"
   ]
  },
  {
   "cell_type": "code",
   "execution_count": 21,
   "id": "73882060",
   "metadata": {},
   "outputs": [],
   "source": [
    "# Calculate Relative Price metrics\n",
    "total_netvalue_per_product = df_grouped_interactions.groupby('ProductCode')['OrderNetValue'].transform('sum')\n",
    "df_grouped_interactions['RelativePriceProduct'] = df_grouped_interactions['OrderNetValue'] / total_netvalue_per_product.replace(0, np.nan)\n",
    "\n",
    "total_netvalue_per_account = df_grouped_interactions.groupby('AccountId')['OrderNetValue'].transform('sum')\n",
    "df_grouped_interactions['RelativePriceAccount'] = df_grouped_interactions['OrderNetValue'] / total_netvalue_per_account.replace(0, np.nan)"
   ]
  },
  {
   "cell_type": "code",
   "execution_count": 22,
   "id": "ebd98c4b",
   "metadata": {},
   "outputs": [],
   "source": [
    "# Round float columns to 2 decimal places\n",
    "float_cols = df_grouped_interactions.select_dtypes(include=['float64']).columns\n",
    "df_grouped_interactions[float_cols] = df_grouped_interactions[float_cols].round(2)\n",
    "\n",
    "float_cols = df_grouped_interactions.select_dtypes(include=['object']).columns\n",
    "df_grouped_interactions[float_cols] = df_grouped_interactions[float_cols].fillna('')"
   ]
  },
  {
   "cell_type": "code",
   "execution_count": 23,
   "id": "8c2a978c",
   "metadata": {},
   "outputs": [],
   "source": [
    "df_grouped_interactions = df_grouped_interactions.sort_values(['AccountId', 'ProductCode', 'NetValue'], ascending=False)"
   ]
  },
  {
   "cell_type": "code",
   "execution_count": 24,
   "id": "485cc315",
   "metadata": {},
   "outputs": [
    {
     "data": {
      "application/vnd.microsoft.datawrangler.viewer.v0+json": {
       "columns": [
        {
         "name": "AccountId",
         "rawType": "object",
         "type": "string"
        },
        {
         "name": "Count",
         "rawType": "int64",
         "type": "integer"
        }
       ],
       "ref": "d90202b4-f556-4149-9c27-a5f390c1c189",
       "rows": [
        [
         "0018c00002uQ4MFAA0",
         "468"
        ],
        [
         "0018c00002nZUgVAAW",
         "466"
        ],
        [
         "001U400000J7k2JIAR",
         "414"
        ],
        [
         "001U400000Beo31IAB",
         "392"
        ],
        [
         "001U400000TnJwtIAF",
         "390"
        ],
        [
         "0018c00002qKlkDAAS",
         "346"
        ],
        [
         "001U400000Cf9TVIAZ",
         "344"
        ],
        [
         "001U400000GMb4hIAD",
         "341"
        ],
        [
         "001U400000MaKqAIAV",
         "333"
        ],
        [
         "001U4000007z4yoIAA",
         "328"
        ],
        [
         "0018c00002oTDJuAAO",
         "325"
        ],
        [
         "0018c00002qLX0PAAW",
         "319"
        ],
        [
         "001U400000CCWMzIAP",
         "310"
        ],
        [
         "0018c00002kkmg5AAA",
         "280"
        ],
        [
         "001U4000006odsOIAQ",
         "279"
        ],
        [
         "001U4000007cFgSIAU",
         "264"
        ],
        [
         "001U400000BXYEMIA5",
         "264"
        ],
        [
         "0018c00002nYQFnAAO",
         "252"
        ],
        [
         "001U4000007IW40IAG",
         "244"
        ],
        [
         "0018c00002xFik0AAC",
         "238"
        ],
        [
         "001U400000JDpRkIAL",
         "232"
        ],
        [
         "0018c00002oTKhuAAG",
         "232"
        ],
        [
         "0018c00002olvjSAAQ",
         "226"
        ],
        [
         "001U400000SZNp0IAH",
         "220"
        ],
        [
         "001U400000QscvzIAB",
         "219"
        ],
        [
         "001U4000007nywgIAA",
         "215"
        ],
        [
         "001U400000AewhAIAR",
         "214"
        ],
        [
         "0018c00002uQZVEAA4",
         "209"
        ],
        [
         "001U4000003Ou7PIAS",
         "209"
        ],
        [
         "001U400000OJkvmIAD",
         "206"
        ],
        [
         "001U400000AOQjaIAH",
         "204"
        ],
        [
         "001U4000008RKHOIA4",
         "203"
        ],
        [
         "001U4000008TCijIAG",
         "200"
        ],
        [
         "0018c00002mpYUOAA2",
         "200"
        ],
        [
         "0018c00002uQ188AAC",
         "199"
        ],
        [
         "001U400000INjDTIA1",
         "199"
        ],
        [
         "001U400000WYniOIAT",
         "196"
        ],
        [
         "001U400000DxGxMIAV",
         "192"
        ],
        [
         "0018c00002mPAhCAAW",
         "191"
        ],
        [
         "0018c00002xFYNKAA4",
         "190"
        ],
        [
         "001U4000008PPF1IAO",
         "189"
        ],
        [
         "001U400000CItPHIA1",
         "189"
        ],
        [
         "001U400000P3pqnIAB",
         "182"
        ],
        [
         "001U40000034jpfIAA",
         "182"
        ],
        [
         "001U400000RGGxZIAX",
         "181"
        ],
        [
         "001U400000CJ1HkIAL",
         "181"
        ],
        [
         "001U400000Lo8xjIAB",
         "180"
        ],
        [
         "001U400000L3ZTaIAN",
         "177"
        ],
        [
         "0018c00002tTvQFAA0",
         "176"
        ],
        [
         "001U4000002yL74IAE",
         "174"
        ]
       ],
       "shape": {
        "columns": 1,
        "rows": 12837
       }
      },
      "text/html": [
       "<div>\n",
       "<style scoped>\n",
       "    .dataframe tbody tr th:only-of-type {\n",
       "        vertical-align: middle;\n",
       "    }\n",
       "\n",
       "    .dataframe tbody tr th {\n",
       "        vertical-align: top;\n",
       "    }\n",
       "\n",
       "    .dataframe thead th {\n",
       "        text-align: right;\n",
       "    }\n",
       "</style>\n",
       "<table border=\"1\" class=\"dataframe\">\n",
       "  <thead>\n",
       "    <tr style=\"text-align: right;\">\n",
       "      <th></th>\n",
       "      <th>Count</th>\n",
       "    </tr>\n",
       "    <tr>\n",
       "      <th>AccountId</th>\n",
       "      <th></th>\n",
       "    </tr>\n",
       "  </thead>\n",
       "  <tbody>\n",
       "    <tr>\n",
       "      <th>0018c00002uQ4MFAA0</th>\n",
       "      <td>468</td>\n",
       "    </tr>\n",
       "    <tr>\n",
       "      <th>0018c00002nZUgVAAW</th>\n",
       "      <td>466</td>\n",
       "    </tr>\n",
       "    <tr>\n",
       "      <th>001U400000J7k2JIAR</th>\n",
       "      <td>414</td>\n",
       "    </tr>\n",
       "    <tr>\n",
       "      <th>001U400000Beo31IAB</th>\n",
       "      <td>392</td>\n",
       "    </tr>\n",
       "    <tr>\n",
       "      <th>001U400000TnJwtIAF</th>\n",
       "      <td>390</td>\n",
       "    </tr>\n",
       "    <tr>\n",
       "      <th>...</th>\n",
       "      <td>...</td>\n",
       "    </tr>\n",
       "    <tr>\n",
       "      <th>001U400000LPjltIAD</th>\n",
       "      <td>1</td>\n",
       "    </tr>\n",
       "    <tr>\n",
       "      <th>001U4000008SRC0IAO</th>\n",
       "      <td>1</td>\n",
       "    </tr>\n",
       "    <tr>\n",
       "      <th>001U4000008Sx2JIAS</th>\n",
       "      <td>1</td>\n",
       "    </tr>\n",
       "    <tr>\n",
       "      <th>001U4000008T4zyIAC</th>\n",
       "      <td>1</td>\n",
       "    </tr>\n",
       "    <tr>\n",
       "      <th>001U400000LSGU7IAP</th>\n",
       "      <td>1</td>\n",
       "    </tr>\n",
       "  </tbody>\n",
       "</table>\n",
       "<p>12837 rows × 1 columns</p>\n",
       "</div>"
      ],
      "text/plain": [
       "                    Count\n",
       "AccountId                \n",
       "0018c00002uQ4MFAA0    468\n",
       "0018c00002nZUgVAAW    466\n",
       "001U400000J7k2JIAR    414\n",
       "001U400000Beo31IAB    392\n",
       "001U400000TnJwtIAF    390\n",
       "...                   ...\n",
       "001U400000LPjltIAD      1\n",
       "001U4000008SRC0IAO      1\n",
       "001U4000008Sx2JIAS      1\n",
       "001U4000008T4zyIAC      1\n",
       "001U400000LSGU7IAP      1\n",
       "\n",
       "[12837 rows x 1 columns]"
      ]
     },
     "execution_count": 24,
     "metadata": {},
     "output_type": "execute_result"
    }
   ],
   "source": [
    "df_grouped_interactions.groupby('AccountId').agg(Count=('ProductCode', 'nunique')).sort_values('Count', ascending=False)"
   ]
  },
  {
   "cell_type": "code",
   "execution_count": 26,
   "id": "0af0f8e7",
   "metadata": {},
   "outputs": [],
   "source": [
    "dfs = []\n",
    "\n",
    "all_products = df_product.groupby('ProductCode').agg(ProductLine=('ProductLine', 'first'), Size=('Size', 'first'))\n",
    "\n",
    "for acc_id, group in df_grouped_interactions.groupby('AccountId'):\n",
    "    n_current = len(group)\n",
    "    n_to_add = max(1, int(n_current * 0.10))  # 10%\n",
    "    top_product_line = max(group['ProductLine'])\n",
    "\n",
    "    df_product_by_line = (all_products[all_products['ProductLine'] == top_product_line]).reset_index()\n",
    "    top_product_size = max(df_product_by_line['Size'].fillna(''))\n",
    "\n",
    "    random_products = np.random.choice(df_product_by_line['ProductCode'], size=n_to_add, replace=True)\n",
    "    \n",
    "    new_rows = pd.DataFrame({\n",
    "        'AccountId': [acc_id] * n_to_add,\n",
    "        'ProductCode': random_products,\n",
    "        'ProductLine': [top_product_line] * n_to_add,\n",
    "        'Size': [top_product_size] * n_to_add\n",
    "    })\n",
    "    \n",
    "    group = pd.concat([group, new_rows], ignore_index=True)\n",
    "    dfs.append(group)\n",
    "\n",
    "df_final = pd.concat(dfs, ignore_index=True)\n"
   ]
  },
  {
   "cell_type": "code",
   "execution_count": 27,
   "id": "eea83cb4",
   "metadata": {},
   "outputs": [],
   "source": [
    "# Round float columns to 2 decimal places\n",
    "float_cols = df_final.select_dtypes(include=['float64']).columns\n",
    "df_final[float_cols] = df_final[float_cols].fillna(0)"
   ]
  },
  {
   "cell_type": "code",
   "execution_count": 28,
   "id": "d7c144d5",
   "metadata": {},
   "outputs": [
    {
     "data": {
      "application/vnd.microsoft.datawrangler.viewer.v0+json": {
       "columns": [
        {
         "name": "index",
         "rawType": "int64",
         "type": "integer"
        },
        {
         "name": "AccountId",
         "rawType": "object",
         "type": "string"
        },
        {
         "name": "ProductCode",
         "rawType": "object",
         "type": "unknown"
        },
        {
         "name": "NetValue",
         "rawType": "float64",
         "type": "float"
        },
        {
         "name": "Quantity",
         "rawType": "float64",
         "type": "float"
        },
        {
         "name": "Recency",
         "rawType": "float64",
         "type": "float"
        },
        {
         "name": "CartRecency",
         "rawType": "float64",
         "type": "float"
        },
        {
         "name": "Weight",
         "rawType": "float64",
         "type": "float"
        },
        {
         "name": "ProductLine",
         "rawType": "object",
         "type": "string"
        },
        {
         "name": "Size",
         "rawType": "object",
         "type": "string"
        },
        {
         "name": "TotalPrice3Month",
         "rawType": "float64",
         "type": "float"
        },
        {
         "name": "TotalPrice6Month",
         "rawType": "float64",
         "type": "float"
        },
        {
         "name": "TotalQuantity3Month",
         "rawType": "float64",
         "type": "float"
        },
        {
         "name": "TotalQuantity6Month",
         "rawType": "float64",
         "type": "float"
        },
        {
         "name": "CountOrder3Month",
         "rawType": "float64",
         "type": "float"
        },
        {
         "name": "CountOrder6Month",
         "rawType": "float64",
         "type": "float"
        },
        {
         "name": "OrderClassification",
         "rawType": "float64",
         "type": "float"
        },
        {
         "name": "OrderQuantity",
         "rawType": "float64",
         "type": "float"
        },
        {
         "name": "CartQuantity",
         "rawType": "float64",
         "type": "float"
        },
        {
         "name": "TotalPriceCart3Month",
         "rawType": "float64",
         "type": "float"
        },
        {
         "name": "TotalPriceCart6Month",
         "rawType": "float64",
         "type": "float"
        },
        {
         "name": "TotalQuantityCart3Month",
         "rawType": "float64",
         "type": "float"
        },
        {
         "name": "TotalQuantityCart6Month",
         "rawType": "float64",
         "type": "float"
        },
        {
         "name": "CountCart3Month",
         "rawType": "float64",
         "type": "float"
        },
        {
         "name": "CountCart6Month",
         "rawType": "float64",
         "type": "float"
        },
        {
         "name": "CartNetValue",
         "rawType": "float64",
         "type": "float"
        },
        {
         "name": "OrderNetValue",
         "rawType": "float64",
         "type": "float"
        },
        {
         "name": "CountOrder",
         "rawType": "float64",
         "type": "float"
        },
        {
         "name": "CountCart",
         "rawType": "float64",
         "type": "float"
        },
        {
         "name": "AverageOrderTicket",
         "rawType": "float64",
         "type": "float"
        },
        {
         "name": "AverageOrderTicket3Month",
         "rawType": "float64",
         "type": "float"
        },
        {
         "name": "AverageOrderTicket6Month",
         "rawType": "float64",
         "type": "float"
        },
        {
         "name": "AverageCartTicket",
         "rawType": "float64",
         "type": "float"
        },
        {
         "name": "AverageCartTicket3Month",
         "rawType": "float64",
         "type": "float"
        },
        {
         "name": "AverageCartTicket6Month",
         "rawType": "float64",
         "type": "float"
        },
        {
         "name": "ProductPopularity",
         "rawType": "float64",
         "type": "float"
        },
        {
         "name": "TotalPriceByAccount",
         "rawType": "float64",
         "type": "float"
        },
        {
         "name": "TotalQuantityByAccount",
         "rawType": "float64",
         "type": "float"
        },
        {
         "name": "RelativePriceProduct",
         "rawType": "float64",
         "type": "float"
        },
        {
         "name": "RelativePriceAccount",
         "rawType": "float64",
         "type": "float"
        }
       ],
       "ref": "f0a7f040-493b-4112-a82e-fd2c42fc598f",
       "rows": [
        [
         "0",
         "0018c00002dJJv0AAG",
         "92314010",
         "3383.52",
         "2.0",
         "0.0",
         "0.0",
         "83.6",
         "Lar",
         "",
         "0.0",
         "0.0",
         "0.0",
         "0.0",
         "0.0",
         "0.0",
         "0.0",
         "2.0",
         "0.0",
         "0.0",
         "0.0",
         "0.0",
         "0.0",
         "0.0",
         "0.0",
         "0.0",
         "3383.52",
         "1.0",
         "0.0",
         "3383.52",
         "0.0",
         "0.0",
         "0.0",
         "0.0",
         "0.0",
         "43.0",
         "12198.12",
         "8.0",
         "0.02",
         "0.28"
        ],
        [
         "1",
         "0018c00002dJJv0AAG",
         "92210010",
         "4540.8",
         "3.0",
         "0.0",
         "0.0",
         "76.8",
         "Lar",
         "",
         "0.0",
         "0.0",
         "0.0",
         "0.0",
         "0.0",
         "0.0",
         "0.0",
         "3.0",
         "0.0",
         "0.0",
         "0.0",
         "0.0",
         "0.0",
         "0.0",
         "0.0",
         "0.0",
         "4540.8",
         "1.0",
         "0.0",
         "4540.8",
         "0.0",
         "0.0",
         "0.0",
         "0.0",
         "0.0",
         "24.0",
         "12198.12",
         "8.0",
         "0.05",
         "0.37"
        ],
        [
         "2",
         "0018c00002dJJv0AAG",
         "92015010",
         "4273.8",
         "3.0",
         "0.0",
         "0.0",
         "74.8",
         "Lar",
         "",
         "0.0",
         "0.0",
         "0.0",
         "0.0",
         "0.0",
         "0.0",
         "0.0",
         "3.0",
         "0.0",
         "0.0",
         "0.0",
         "0.0",
         "0.0",
         "0.0",
         "0.0",
         "0.0",
         "4273.8",
         "1.0",
         "0.0",
         "4273.8",
         "0.0",
         "0.0",
         "0.0",
         "0.0",
         "0.0",
         "37.0",
         "12198.12",
         "8.0",
         "0.04",
         "0.35"
        ],
        [
         "3",
         "0018c00002dJJv0AAG",
         "93885100",
         "0.0",
         "0.0",
         "0.0",
         "0.0",
         "0.0",
         "Lar",
         "Pequeno",
         "0.0",
         "0.0",
         "0.0",
         "0.0",
         "0.0",
         "0.0",
         "0.0",
         "0.0",
         "0.0",
         "0.0",
         "0.0",
         "0.0",
         "0.0",
         "0.0",
         "0.0",
         "0.0",
         "0.0",
         "0.0",
         "0.0",
         "0.0",
         "0.0",
         "0.0",
         "0.0",
         "0.0",
         "0.0",
         "0.0",
         "0.0",
         "0.0",
         "0.0",
         "0.0"
        ],
        [
         "4",
         "0018c00002dtWCbAAM",
         "58026327",
         "3253.22",
         "7.0",
         "0.0",
         "0.0",
         "9.8",
         "Elétrica",
         "",
         "0.0",
         "987.12",
         "0.0",
         "2.0",
         "0.0",
         "1.0",
         "0.0",
         "7.0",
         "0.0",
         "0.0",
         "0.0",
         "0.0",
         "0.0",
         "0.0",
         "0.0",
         "0.0",
         "3253.22",
         "2.0",
         "0.0",
         "1626.61",
         "0.0",
         "987.12",
         "0.0",
         "0.0",
         "0.0",
         "1.0",
         "218295.68",
         "1890.0",
         "0.25",
         "0.01"
        ],
        [
         "5",
         "0018c00002dtWCbAAM",
         "58026325",
         "1550.75",
         "5.0",
         "0.0",
         "0.0",
         "5.0",
         "Elétrica",
         "",
         "0.0",
         "652.28",
         "0.0",
         "2.0",
         "0.0",
         "1.0",
         "0.0",
         "5.0",
         "0.0",
         "0.0",
         "0.0",
         "0.0",
         "0.0",
         "0.0",
         "0.0",
         "0.0",
         "1550.75",
         "2.0",
         "0.0",
         "775.38",
         "0.0",
         "652.28",
         "0.0",
         "0.0",
         "0.0",
         "1.0",
         "218295.68",
         "1890.0",
         "0.35",
         "0.01"
        ],
        [
         "6",
         "0018c00002dtWCbAAM",
         "58026231",
         "698.64",
         "2.0",
         "0.01",
         "0.0",
         "4.6",
         "Elétrica",
         "",
         "0.0",
         "698.64",
         "0.0",
         "2.0",
         "0.0",
         "1.0",
         "0.0",
         "2.0",
         "0.0",
         "0.0",
         "0.0",
         "0.0",
         "0.0",
         "0.0",
         "0.0",
         "0.0",
         "698.64",
         "1.0",
         "0.0",
         "698.64",
         "0.0",
         "698.64",
         "0.0",
         "0.0",
         "0.0",
         "1.0",
         "218295.68",
         "1890.0",
         "0.19",
         "0.0"
        ],
        [
         "7",
         "0018c00002dtWCbAAM",
         "58014078",
         "704.78",
         "5.0",
         "0.01",
         "0.0",
         "0.36",
         "Elétrica",
         "",
         "704.78",
         "704.78",
         "5.0",
         "5.0",
         "1.0",
         "1.0",
         "0.0",
         "5.0",
         "0.0",
         "0.0",
         "0.0",
         "0.0",
         "0.0",
         "0.0",
         "0.0",
         "0.0",
         "704.78",
         "1.0",
         "0.0",
         "704.78",
         "704.78",
         "704.78",
         "0.0",
         "0.0",
         "0.0",
         "2.0",
         "218295.68",
         "1890.0",
         "0.18",
         "0.0"
        ],
        [
         "8",
         "0018c00002dtWCbAAM",
         "58014077",
         "909.07",
         "10.0",
         "0.0",
         "0.0",
         "0.34",
         "Elétrica",
         "",
         "454.22",
         "454.22",
         "5.0",
         "5.0",
         "1.0",
         "1.0",
         "0.0",
         "10.0",
         "0.0",
         "0.0",
         "0.0",
         "0.0",
         "0.0",
         "0.0",
         "0.0",
         "0.0",
         "909.07",
         "2.0",
         "0.0",
         "454.54",
         "454.22",
         "454.22",
         "0.0",
         "0.0",
         "0.0",
         "9.0",
         "218295.68",
         "1890.0",
         "0.01",
         "0.0"
        ],
        [
         "9",
         "0018c00002dtWCbAAM",
         "58013145",
         "1102.65",
         "3.0",
         "0.0",
         "0.0",
         "1.88",
         "Elétrica",
         "",
         "0.0",
         "0.0",
         "0.0",
         "0.0",
         "0.0",
         "0.0",
         "0.0",
         "3.0",
         "0.0",
         "0.0",
         "0.0",
         "0.0",
         "0.0",
         "0.0",
         "0.0",
         "0.0",
         "1102.65",
         "2.0",
         "0.0",
         "551.33",
         "0.0",
         "0.0",
         "0.0",
         "0.0",
         "0.0",
         "6.0",
         "218295.68",
         "1890.0",
         "0.06",
         "0.01"
        ]
       ],
       "shape": {
        "columns": 39,
        "rows": 10
       }
      },
      "text/html": [
       "<div>\n",
       "<style scoped>\n",
       "    .dataframe tbody tr th:only-of-type {\n",
       "        vertical-align: middle;\n",
       "    }\n",
       "\n",
       "    .dataframe tbody tr th {\n",
       "        vertical-align: top;\n",
       "    }\n",
       "\n",
       "    .dataframe thead th {\n",
       "        text-align: right;\n",
       "    }\n",
       "</style>\n",
       "<table border=\"1\" class=\"dataframe\">\n",
       "  <thead>\n",
       "    <tr style=\"text-align: right;\">\n",
       "      <th></th>\n",
       "      <th>AccountId</th>\n",
       "      <th>ProductCode</th>\n",
       "      <th>NetValue</th>\n",
       "      <th>Quantity</th>\n",
       "      <th>Recency</th>\n",
       "      <th>CartRecency</th>\n",
       "      <th>Weight</th>\n",
       "      <th>ProductLine</th>\n",
       "      <th>Size</th>\n",
       "      <th>TotalPrice3Month</th>\n",
       "      <th>...</th>\n",
       "      <th>AverageOrderTicket3Month</th>\n",
       "      <th>AverageOrderTicket6Month</th>\n",
       "      <th>AverageCartTicket</th>\n",
       "      <th>AverageCartTicket3Month</th>\n",
       "      <th>AverageCartTicket6Month</th>\n",
       "      <th>ProductPopularity</th>\n",
       "      <th>TotalPriceByAccount</th>\n",
       "      <th>TotalQuantityByAccount</th>\n",
       "      <th>RelativePriceProduct</th>\n",
       "      <th>RelativePriceAccount</th>\n",
       "    </tr>\n",
       "  </thead>\n",
       "  <tbody>\n",
       "    <tr>\n",
       "      <th>0</th>\n",
       "      <td>0018c00002dJJv0AAG</td>\n",
       "      <td>92314010</td>\n",
       "      <td>3383.52</td>\n",
       "      <td>2.0</td>\n",
       "      <td>0.00</td>\n",
       "      <td>0.0</td>\n",
       "      <td>83.60</td>\n",
       "      <td>Lar</td>\n",
       "      <td></td>\n",
       "      <td>0.00</td>\n",
       "      <td>...</td>\n",
       "      <td>0.00</td>\n",
       "      <td>0.00</td>\n",
       "      <td>0.0</td>\n",
       "      <td>0.0</td>\n",
       "      <td>0.0</td>\n",
       "      <td>43.0</td>\n",
       "      <td>12198.12</td>\n",
       "      <td>8.0</td>\n",
       "      <td>0.02</td>\n",
       "      <td>0.28</td>\n",
       "    </tr>\n",
       "    <tr>\n",
       "      <th>1</th>\n",
       "      <td>0018c00002dJJv0AAG</td>\n",
       "      <td>92210010</td>\n",
       "      <td>4540.80</td>\n",
       "      <td>3.0</td>\n",
       "      <td>0.00</td>\n",
       "      <td>0.0</td>\n",
       "      <td>76.80</td>\n",
       "      <td>Lar</td>\n",
       "      <td></td>\n",
       "      <td>0.00</td>\n",
       "      <td>...</td>\n",
       "      <td>0.00</td>\n",
       "      <td>0.00</td>\n",
       "      <td>0.0</td>\n",
       "      <td>0.0</td>\n",
       "      <td>0.0</td>\n",
       "      <td>24.0</td>\n",
       "      <td>12198.12</td>\n",
       "      <td>8.0</td>\n",
       "      <td>0.05</td>\n",
       "      <td>0.37</td>\n",
       "    </tr>\n",
       "    <tr>\n",
       "      <th>2</th>\n",
       "      <td>0018c00002dJJv0AAG</td>\n",
       "      <td>92015010</td>\n",
       "      <td>4273.80</td>\n",
       "      <td>3.0</td>\n",
       "      <td>0.00</td>\n",
       "      <td>0.0</td>\n",
       "      <td>74.80</td>\n",
       "      <td>Lar</td>\n",
       "      <td></td>\n",
       "      <td>0.00</td>\n",
       "      <td>...</td>\n",
       "      <td>0.00</td>\n",
       "      <td>0.00</td>\n",
       "      <td>0.0</td>\n",
       "      <td>0.0</td>\n",
       "      <td>0.0</td>\n",
       "      <td>37.0</td>\n",
       "      <td>12198.12</td>\n",
       "      <td>8.0</td>\n",
       "      <td>0.04</td>\n",
       "      <td>0.35</td>\n",
       "    </tr>\n",
       "    <tr>\n",
       "      <th>3</th>\n",
       "      <td>0018c00002dJJv0AAG</td>\n",
       "      <td>93885100</td>\n",
       "      <td>0.00</td>\n",
       "      <td>0.0</td>\n",
       "      <td>0.00</td>\n",
       "      <td>0.0</td>\n",
       "      <td>0.00</td>\n",
       "      <td>Lar</td>\n",
       "      <td>Pequeno</td>\n",
       "      <td>0.00</td>\n",
       "      <td>...</td>\n",
       "      <td>0.00</td>\n",
       "      <td>0.00</td>\n",
       "      <td>0.0</td>\n",
       "      <td>0.0</td>\n",
       "      <td>0.0</td>\n",
       "      <td>0.0</td>\n",
       "      <td>0.00</td>\n",
       "      <td>0.0</td>\n",
       "      <td>0.00</td>\n",
       "      <td>0.00</td>\n",
       "    </tr>\n",
       "    <tr>\n",
       "      <th>4</th>\n",
       "      <td>0018c00002dtWCbAAM</td>\n",
       "      <td>58026327</td>\n",
       "      <td>3253.22</td>\n",
       "      <td>7.0</td>\n",
       "      <td>0.00</td>\n",
       "      <td>0.0</td>\n",
       "      <td>9.80</td>\n",
       "      <td>Elétrica</td>\n",
       "      <td></td>\n",
       "      <td>0.00</td>\n",
       "      <td>...</td>\n",
       "      <td>0.00</td>\n",
       "      <td>987.12</td>\n",
       "      <td>0.0</td>\n",
       "      <td>0.0</td>\n",
       "      <td>0.0</td>\n",
       "      <td>1.0</td>\n",
       "      <td>218295.68</td>\n",
       "      <td>1890.0</td>\n",
       "      <td>0.25</td>\n",
       "      <td>0.01</td>\n",
       "    </tr>\n",
       "    <tr>\n",
       "      <th>5</th>\n",
       "      <td>0018c00002dtWCbAAM</td>\n",
       "      <td>58026325</td>\n",
       "      <td>1550.75</td>\n",
       "      <td>5.0</td>\n",
       "      <td>0.00</td>\n",
       "      <td>0.0</td>\n",
       "      <td>5.00</td>\n",
       "      <td>Elétrica</td>\n",
       "      <td></td>\n",
       "      <td>0.00</td>\n",
       "      <td>...</td>\n",
       "      <td>0.00</td>\n",
       "      <td>652.28</td>\n",
       "      <td>0.0</td>\n",
       "      <td>0.0</td>\n",
       "      <td>0.0</td>\n",
       "      <td>1.0</td>\n",
       "      <td>218295.68</td>\n",
       "      <td>1890.0</td>\n",
       "      <td>0.35</td>\n",
       "      <td>0.01</td>\n",
       "    </tr>\n",
       "    <tr>\n",
       "      <th>6</th>\n",
       "      <td>0018c00002dtWCbAAM</td>\n",
       "      <td>58026231</td>\n",
       "      <td>698.64</td>\n",
       "      <td>2.0</td>\n",
       "      <td>0.01</td>\n",
       "      <td>0.0</td>\n",
       "      <td>4.60</td>\n",
       "      <td>Elétrica</td>\n",
       "      <td></td>\n",
       "      <td>0.00</td>\n",
       "      <td>...</td>\n",
       "      <td>0.00</td>\n",
       "      <td>698.64</td>\n",
       "      <td>0.0</td>\n",
       "      <td>0.0</td>\n",
       "      <td>0.0</td>\n",
       "      <td>1.0</td>\n",
       "      <td>218295.68</td>\n",
       "      <td>1890.0</td>\n",
       "      <td>0.19</td>\n",
       "      <td>0.00</td>\n",
       "    </tr>\n",
       "    <tr>\n",
       "      <th>7</th>\n",
       "      <td>0018c00002dtWCbAAM</td>\n",
       "      <td>58014078</td>\n",
       "      <td>704.78</td>\n",
       "      <td>5.0</td>\n",
       "      <td>0.01</td>\n",
       "      <td>0.0</td>\n",
       "      <td>0.36</td>\n",
       "      <td>Elétrica</td>\n",
       "      <td></td>\n",
       "      <td>704.78</td>\n",
       "      <td>...</td>\n",
       "      <td>704.78</td>\n",
       "      <td>704.78</td>\n",
       "      <td>0.0</td>\n",
       "      <td>0.0</td>\n",
       "      <td>0.0</td>\n",
       "      <td>2.0</td>\n",
       "      <td>218295.68</td>\n",
       "      <td>1890.0</td>\n",
       "      <td>0.18</td>\n",
       "      <td>0.00</td>\n",
       "    </tr>\n",
       "    <tr>\n",
       "      <th>8</th>\n",
       "      <td>0018c00002dtWCbAAM</td>\n",
       "      <td>58014077</td>\n",
       "      <td>909.07</td>\n",
       "      <td>10.0</td>\n",
       "      <td>0.00</td>\n",
       "      <td>0.0</td>\n",
       "      <td>0.34</td>\n",
       "      <td>Elétrica</td>\n",
       "      <td></td>\n",
       "      <td>454.22</td>\n",
       "      <td>...</td>\n",
       "      <td>454.22</td>\n",
       "      <td>454.22</td>\n",
       "      <td>0.0</td>\n",
       "      <td>0.0</td>\n",
       "      <td>0.0</td>\n",
       "      <td>9.0</td>\n",
       "      <td>218295.68</td>\n",
       "      <td>1890.0</td>\n",
       "      <td>0.01</td>\n",
       "      <td>0.00</td>\n",
       "    </tr>\n",
       "    <tr>\n",
       "      <th>9</th>\n",
       "      <td>0018c00002dtWCbAAM</td>\n",
       "      <td>58013145</td>\n",
       "      <td>1102.65</td>\n",
       "      <td>3.0</td>\n",
       "      <td>0.00</td>\n",
       "      <td>0.0</td>\n",
       "      <td>1.88</td>\n",
       "      <td>Elétrica</td>\n",
       "      <td></td>\n",
       "      <td>0.00</td>\n",
       "      <td>...</td>\n",
       "      <td>0.00</td>\n",
       "      <td>0.00</td>\n",
       "      <td>0.0</td>\n",
       "      <td>0.0</td>\n",
       "      <td>0.0</td>\n",
       "      <td>6.0</td>\n",
       "      <td>218295.68</td>\n",
       "      <td>1890.0</td>\n",
       "      <td>0.06</td>\n",
       "      <td>0.01</td>\n",
       "    </tr>\n",
       "  </tbody>\n",
       "</table>\n",
       "<p>10 rows × 39 columns</p>\n",
       "</div>"
      ],
      "text/plain": [
       "            AccountId ProductCode  NetValue  Quantity  Recency  CartRecency  \\\n",
       "0  0018c00002dJJv0AAG    92314010   3383.52       2.0     0.00          0.0   \n",
       "1  0018c00002dJJv0AAG    92210010   4540.80       3.0     0.00          0.0   \n",
       "2  0018c00002dJJv0AAG    92015010   4273.80       3.0     0.00          0.0   \n",
       "3  0018c00002dJJv0AAG    93885100      0.00       0.0     0.00          0.0   \n",
       "4  0018c00002dtWCbAAM    58026327   3253.22       7.0     0.00          0.0   \n",
       "5  0018c00002dtWCbAAM    58026325   1550.75       5.0     0.00          0.0   \n",
       "6  0018c00002dtWCbAAM    58026231    698.64       2.0     0.01          0.0   \n",
       "7  0018c00002dtWCbAAM    58014078    704.78       5.0     0.01          0.0   \n",
       "8  0018c00002dtWCbAAM    58014077    909.07      10.0     0.00          0.0   \n",
       "9  0018c00002dtWCbAAM    58013145   1102.65       3.0     0.00          0.0   \n",
       "\n",
       "   Weight ProductLine     Size  TotalPrice3Month  ...  \\\n",
       "0   83.60         Lar                       0.00  ...   \n",
       "1   76.80         Lar                       0.00  ...   \n",
       "2   74.80         Lar                       0.00  ...   \n",
       "3    0.00         Lar  Pequeno              0.00  ...   \n",
       "4    9.80    Elétrica                       0.00  ...   \n",
       "5    5.00    Elétrica                       0.00  ...   \n",
       "6    4.60    Elétrica                       0.00  ...   \n",
       "7    0.36    Elétrica                     704.78  ...   \n",
       "8    0.34    Elétrica                     454.22  ...   \n",
       "9    1.88    Elétrica                       0.00  ...   \n",
       "\n",
       "   AverageOrderTicket3Month  AverageOrderTicket6Month  AverageCartTicket  \\\n",
       "0                      0.00                      0.00                0.0   \n",
       "1                      0.00                      0.00                0.0   \n",
       "2                      0.00                      0.00                0.0   \n",
       "3                      0.00                      0.00                0.0   \n",
       "4                      0.00                    987.12                0.0   \n",
       "5                      0.00                    652.28                0.0   \n",
       "6                      0.00                    698.64                0.0   \n",
       "7                    704.78                    704.78                0.0   \n",
       "8                    454.22                    454.22                0.0   \n",
       "9                      0.00                      0.00                0.0   \n",
       "\n",
       "   AverageCartTicket3Month  AverageCartTicket6Month  ProductPopularity  \\\n",
       "0                      0.0                      0.0               43.0   \n",
       "1                      0.0                      0.0               24.0   \n",
       "2                      0.0                      0.0               37.0   \n",
       "3                      0.0                      0.0                0.0   \n",
       "4                      0.0                      0.0                1.0   \n",
       "5                      0.0                      0.0                1.0   \n",
       "6                      0.0                      0.0                1.0   \n",
       "7                      0.0                      0.0                2.0   \n",
       "8                      0.0                      0.0                9.0   \n",
       "9                      0.0                      0.0                6.0   \n",
       "\n",
       "   TotalPriceByAccount  TotalQuantityByAccount  RelativePriceProduct  \\\n",
       "0             12198.12                     8.0                  0.02   \n",
       "1             12198.12                     8.0                  0.05   \n",
       "2             12198.12                     8.0                  0.04   \n",
       "3                 0.00                     0.0                  0.00   \n",
       "4            218295.68                  1890.0                  0.25   \n",
       "5            218295.68                  1890.0                  0.35   \n",
       "6            218295.68                  1890.0                  0.19   \n",
       "7            218295.68                  1890.0                  0.18   \n",
       "8            218295.68                  1890.0                  0.01   \n",
       "9            218295.68                  1890.0                  0.06   \n",
       "\n",
       "   RelativePriceAccount  \n",
       "0                  0.28  \n",
       "1                  0.37  \n",
       "2                  0.35  \n",
       "3                  0.00  \n",
       "4                  0.01  \n",
       "5                  0.01  \n",
       "6                  0.00  \n",
       "7                  0.00  \n",
       "8                  0.00  \n",
       "9                  0.01  \n",
       "\n",
       "[10 rows x 39 columns]"
      ]
     },
     "execution_count": 28,
     "metadata": {},
     "output_type": "execute_result"
    }
   ],
   "source": [
    "df_final.head(10)"
   ]
  },
  {
   "cell_type": "code",
   "execution_count": 29,
   "id": "c7b71de8",
   "metadata": {},
   "outputs": [
    {
     "data": {
      "application/vnd.microsoft.datawrangler.viewer.v0+json": {
       "columns": [
        {
         "name": "AccountId",
         "rawType": "object",
         "type": "string"
        },
        {
         "name": "Count",
         "rawType": "int64",
         "type": "integer"
        }
       ],
       "ref": "4fc2fb18-25a9-44fe-a32f-d279f8271606",
       "rows": [
        [
         "0018c00002uQ4MFAA0",
         "514"
        ],
        [
         "0018c00002nZUgVAAW",
         "512"
        ],
        [
         "001U400000J7k2JIAR",
         "455"
        ],
        [
         "001U400000Beo31IAB",
         "431"
        ],
        [
         "001U400000TnJwtIAF",
         "428"
        ],
        [
         "0018c00002qKlkDAAS",
         "380"
        ],
        [
         "001U400000Cf9TVIAZ",
         "378"
        ],
        [
         "001U400000GMb4hIAD",
         "375"
        ],
        [
         "001U400000MaKqAIAV",
         "366"
        ],
        [
         "001U4000007z4yoIAA",
         "360"
        ],
        [
         "0018c00002oTDJuAAO",
         "357"
        ],
        [
         "0018c00002qLX0PAAW",
         "350"
        ],
        [
         "001U400000CCWMzIAP",
         "341"
        ],
        [
         "0018c00002kkmg5AAA",
         "308"
        ],
        [
         "001U4000006odsOIAQ",
         "306"
        ],
        [
         "001U4000007cFgSIAU",
         "290"
        ],
        [
         "001U400000BXYEMIA5",
         "289"
        ],
        [
         "0018c00002nYQFnAAO",
         "277"
        ],
        [
         "001U4000007IW40IAG",
         "268"
        ],
        [
         "0018c00002xFik0AAC",
         "261"
        ],
        [
         "001U400000JDpRkIAL",
         "255"
        ],
        [
         "0018c00002oTKhuAAG",
         "255"
        ],
        [
         "0018c00002olvjSAAQ",
         "248"
        ],
        [
         "001U400000SZNp0IAH",
         "242"
        ],
        [
         "001U400000QscvzIAB",
         "240"
        ],
        [
         "001U400000AewhAIAR",
         "234"
        ],
        [
         "001U4000007nywgIAA",
         "234"
        ],
        [
         "0018c00002uQZVEAA4",
         "229"
        ],
        [
         "001U4000003Ou7PIAS",
         "228"
        ],
        [
         "001U400000OJkvmIAD",
         "225"
        ],
        [
         "001U400000AOQjaIAH",
         "224"
        ],
        [
         "001U4000008RKHOIA4",
         "223"
        ],
        [
         "001U4000008TCijIAG",
         "220"
        ],
        [
         "0018c00002mpYUOAA2",
         "220"
        ],
        [
         "0018c00002uQ188AAC",
         "218"
        ],
        [
         "001U400000INjDTIA1",
         "218"
        ],
        [
         "001U400000WYniOIAT",
         "215"
        ],
        [
         "001U400000DxGxMIAV",
         "211"
        ],
        [
         "0018c00002mPAhCAAW",
         "210"
        ],
        [
         "0018c00002xFYNKAA4",
         "209"
        ],
        [
         "001U4000008PPF1IAO",
         "207"
        ],
        [
         "001U400000CItPHIA1",
         "207"
        ],
        [
         "001U400000P3pqnIAB",
         "200"
        ],
        [
         "001U40000034jpfIAA",
         "200"
        ],
        [
         "001U400000RGGxZIAX",
         "199"
        ],
        [
         "001U400000Lo8xjIAB",
         "198"
        ],
        [
         "001U400000CJ1HkIAL",
         "197"
        ],
        [
         "001U400000L3ZTaIAN",
         "194"
        ],
        [
         "0018c00002tTvQFAA0",
         "193"
        ],
        [
         "001U4000002yL74IAE",
         "191"
        ]
       ],
       "shape": {
        "columns": 1,
        "rows": 12837
       }
      },
      "text/html": [
       "<div>\n",
       "<style scoped>\n",
       "    .dataframe tbody tr th:only-of-type {\n",
       "        vertical-align: middle;\n",
       "    }\n",
       "\n",
       "    .dataframe tbody tr th {\n",
       "        vertical-align: top;\n",
       "    }\n",
       "\n",
       "    .dataframe thead th {\n",
       "        text-align: right;\n",
       "    }\n",
       "</style>\n",
       "<table border=\"1\" class=\"dataframe\">\n",
       "  <thead>\n",
       "    <tr style=\"text-align: right;\">\n",
       "      <th></th>\n",
       "      <th>Count</th>\n",
       "    </tr>\n",
       "    <tr>\n",
       "      <th>AccountId</th>\n",
       "      <th></th>\n",
       "    </tr>\n",
       "  </thead>\n",
       "  <tbody>\n",
       "    <tr>\n",
       "      <th>0018c00002uQ4MFAA0</th>\n",
       "      <td>514</td>\n",
       "    </tr>\n",
       "    <tr>\n",
       "      <th>0018c00002nZUgVAAW</th>\n",
       "      <td>512</td>\n",
       "    </tr>\n",
       "    <tr>\n",
       "      <th>001U400000J7k2JIAR</th>\n",
       "      <td>455</td>\n",
       "    </tr>\n",
       "    <tr>\n",
       "      <th>001U400000Beo31IAB</th>\n",
       "      <td>431</td>\n",
       "    </tr>\n",
       "    <tr>\n",
       "      <th>001U400000TnJwtIAF</th>\n",
       "      <td>428</td>\n",
       "    </tr>\n",
       "    <tr>\n",
       "      <th>...</th>\n",
       "      <td>...</td>\n",
       "    </tr>\n",
       "    <tr>\n",
       "      <th>001U400000LPjltIAD</th>\n",
       "      <td>2</td>\n",
       "    </tr>\n",
       "    <tr>\n",
       "      <th>001U4000008SRC0IAO</th>\n",
       "      <td>2</td>\n",
       "    </tr>\n",
       "    <tr>\n",
       "      <th>001U4000008Sx2JIAS</th>\n",
       "      <td>2</td>\n",
       "    </tr>\n",
       "    <tr>\n",
       "      <th>001U4000008T4zyIAC</th>\n",
       "      <td>2</td>\n",
       "    </tr>\n",
       "    <tr>\n",
       "      <th>001U400000LSGU7IAP</th>\n",
       "      <td>2</td>\n",
       "    </tr>\n",
       "  </tbody>\n",
       "</table>\n",
       "<p>12837 rows × 1 columns</p>\n",
       "</div>"
      ],
      "text/plain": [
       "                    Count\n",
       "AccountId                \n",
       "0018c00002uQ4MFAA0    514\n",
       "0018c00002nZUgVAAW    512\n",
       "001U400000J7k2JIAR    455\n",
       "001U400000Beo31IAB    431\n",
       "001U400000TnJwtIAF    428\n",
       "...                   ...\n",
       "001U400000LPjltIAD      2\n",
       "001U4000008SRC0IAO      2\n",
       "001U4000008Sx2JIAS      2\n",
       "001U4000008T4zyIAC      2\n",
       "001U400000LSGU7IAP      2\n",
       "\n",
       "[12837 rows x 1 columns]"
      ]
     },
     "execution_count": 29,
     "metadata": {},
     "output_type": "execute_result"
    }
   ],
   "source": [
    "df_final.groupby('AccountId').agg(Count=('ProductCode', 'nunique')).sort_values('Count', ascending=False)"
   ]
  },
  {
   "cell_type": "code",
   "execution_count": 30,
   "id": "985dc815",
   "metadata": {},
   "outputs": [],
   "source": [
    "df_final.to_csv('Data/AccountInteractions.csv')"
   ]
  },
  {
   "cell_type": "code",
   "execution_count": 31,
   "id": "1f453978",
   "metadata": {},
   "outputs": [
    {
     "data": {
      "text/plain": [
       "Index(['AccountId', 'ProductCode', 'NetValue', 'Quantity', 'Recency',\n",
       "       'CartRecency', 'Weight', 'ProductLine', 'Size', 'TotalPrice3Month',\n",
       "       'TotalPrice6Month', 'TotalQuantity3Month', 'TotalQuantity6Month',\n",
       "       'CountOrder3Month', 'CountOrder6Month', 'OrderClassification',\n",
       "       'OrderQuantity', 'CartQuantity', 'TotalPriceCart3Month',\n",
       "       'TotalPriceCart6Month', 'TotalQuantityCart3Month',\n",
       "       'TotalQuantityCart6Month', 'CountCart3Month', 'CountCart6Month',\n",
       "       'CartNetValue', 'OrderNetValue', 'CountOrder', 'CountCart',\n",
       "       'AverageOrderTicket', 'AverageOrderTicket3Month',\n",
       "       'AverageOrderTicket6Month', 'AverageCartTicket',\n",
       "       'AverageCartTicket3Month', 'AverageCartTicket6Month',\n",
       "       'ProductPopularity', 'TotalPriceByAccount', 'TotalQuantityByAccount',\n",
       "       'RelativePriceProduct', 'RelativePriceAccount'],\n",
       "      dtype='object')"
      ]
     },
     "execution_count": 31,
     "metadata": {},
     "output_type": "execute_result"
    }
   ],
   "source": [
    "df_final.columns"
   ]
  }
 ],
 "metadata": {
  "kernelspec": {
   "display_name": "env",
   "language": "python",
   "name": "python3"
  },
  "language_info": {
   "codemirror_mode": {
    "name": "ipython",
    "version": 3
   },
   "file_extension": ".py",
   "mimetype": "text/x-python",
   "name": "python",
   "nbconvert_exporter": "python",
   "pygments_lexer": "ipython3",
   "version": "3.13.7"
  }
 },
 "nbformat": 4,
 "nbformat_minor": 5
}
